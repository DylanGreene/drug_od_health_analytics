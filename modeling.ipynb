{
 "cells": [
  {
   "cell_type": "markdown",
   "metadata": {},
   "source": [
    "# Drug Overdose Modeling"
   ]
  },
  {
   "cell_type": "code",
   "execution_count": 1,
   "metadata": {},
   "outputs": [],
   "source": [
    "import numpy as np\n",
    "import pandas as pd\n",
    "import scipy as sp\n",
    "import datetime\n",
    "import matplotlib.pyplot as plt\n",
    "import seaborn as sns\n",
    "import statsmodels.api as sm\n",
    "import patsy \n",
    "import math\n",
    "\n",
    "pd.set_option('display.max_columns', 100)\n",
    "%matplotlib inline"
   ]
  },
  {
   "cell_type": "markdown",
   "metadata": {},
   "source": [
    "## Import the feature DataFrame"
   ]
  },
  {
   "cell_type": "code",
   "execution_count": 2,
   "metadata": {},
   "outputs": [],
   "source": [
    "# Read the DF created from the feature_selection notebook\n",
    "counties = pd.read_pickle('counties_df.pkl')"
   ]
  },
  {
   "cell_type": "code",
   "execution_count": 3,
   "metadata": {},
   "outputs": [],
   "source": [
    "# Make the column names standardized for use in patsy formulas\n",
    "counties.columns = [x.replace(' ', '_').replace('-', '_').replace('%', 'Percent') for x in list(counties.columns)]"
   ]
  },
  {
   "cell_type": "markdown",
   "metadata": {},
   "source": [
    "## Train a model on the appropriate features"
   ]
  },
  {
   "cell_type": "code",
   "execution_count": 18,
   "metadata": {},
   "outputs": [],
   "source": [
    "formula = \"Drug_Overdose_Mortality_Rate ~ 1 + Percent_Unemployed + Household_Income + Graduation_Rate + Percent_Rural + HIV_Prevalence_Rate + Percent_Frequent_Mental_Distress + Percent_Excessive_Drinking\"\n",
    "y, X = patsy.dmatrices(formula, counties, return_type='matrix') \n",
    "model = sm.OLS(y, X)"
   ]
  },
  {
   "cell_type": "code",
   "execution_count": 19,
   "metadata": {},
   "outputs": [],
   "source": [
    "results = model.fit()"
   ]
  },
  {
   "cell_type": "code",
   "execution_count": 20,
   "metadata": {},
   "outputs": [
    {
     "data": {
      "text/html": [
       "<table class=\"simpletable\">\n",
       "<caption>OLS Regression Results</caption>\n",
       "<tr>\n",
       "  <th>Dep. Variable:</th>    <td>Drug_Overdose_Mortality_Rate</td> <th>  R-squared:         </th> <td>   0.169</td> \n",
       "</tr>\n",
       "<tr>\n",
       "  <th>Model:</th>                         <td>OLS</td>             <th>  Adj. R-squared:    </th> <td>   0.166</td> \n",
       "</tr>\n",
       "<tr>\n",
       "  <th>Method:</th>                   <td>Least Squares</td>        <th>  F-statistic:       </th> <td>   47.91</td> \n",
       "</tr>\n",
       "<tr>\n",
       "  <th>Date:</th>                   <td>Sun, 09 Dec 2018</td>       <th>  Prob (F-statistic):</th> <td>3.67e-62</td> \n",
       "</tr>\n",
       "<tr>\n",
       "  <th>Time:</th>                       <td>18:33:38</td>           <th>  Log-Likelihood:    </th> <td> -6081.7</td> \n",
       "</tr>\n",
       "<tr>\n",
       "  <th>No. Observations:</th>            <td>  1655</td>            <th>  AIC:               </th> <td>1.218e+04</td>\n",
       "</tr>\n",
       "<tr>\n",
       "  <th>Df Residuals:</th>                <td>  1647</td>            <th>  BIC:               </th> <td>1.222e+04</td>\n",
       "</tr>\n",
       "<tr>\n",
       "  <th>Df Model:</th>                    <td>     7</td>            <th>                     </th>     <td> </td>    \n",
       "</tr>\n",
       "<tr>\n",
       "  <th>Covariance Type:</th>            <td>nonrobust</td>          <th>                     </th>     <td> </td>    \n",
       "</tr>\n",
       "</table>\n",
       "<table class=\"simpletable\">\n",
       "<tr>\n",
       "                  <td></td>                    <th>coef</th>     <th>std err</th>      <th>t</th>      <th>P>|t|</th>  <th>[0.025</th>    <th>0.975]</th>  \n",
       "</tr>\n",
       "<tr>\n",
       "  <th>Intercept</th>                        <td>  -19.2633</td> <td>    6.156</td> <td>   -3.129</td> <td> 0.002</td> <td>  -31.337</td> <td>   -7.189</td>\n",
       "</tr>\n",
       "<tr>\n",
       "  <th>Percent_Unemployed</th>               <td>    0.8768</td> <td>    0.174</td> <td>    5.036</td> <td> 0.000</td> <td>    0.535</td> <td>    1.218</td>\n",
       "</tr>\n",
       "<tr>\n",
       "  <th>Household_Income</th>                 <td>    0.0001</td> <td>  2.9e-05</td> <td>    3.467</td> <td> 0.001</td> <td> 4.37e-05</td> <td>    0.000</td>\n",
       "</tr>\n",
       "<tr>\n",
       "  <th>Graduation_Rate</th>                  <td>    0.0669</td> <td>    0.035</td> <td>    1.924</td> <td> 0.055</td> <td>   -0.001</td> <td>    0.135</td>\n",
       "</tr>\n",
       "<tr>\n",
       "  <th>Percent_Rural</th>                    <td>    0.0172</td> <td>    0.011</td> <td>    1.597</td> <td> 0.110</td> <td>   -0.004</td> <td>    0.038</td>\n",
       "</tr>\n",
       "<tr>\n",
       "  <th>HIV_Prevalence_Rate</th>              <td>   -0.0027</td> <td>    0.001</td> <td>   -2.109</td> <td> 0.035</td> <td>   -0.005</td> <td>   -0.000</td>\n",
       "</tr>\n",
       "<tr>\n",
       "  <th>Percent_Frequent_Mental_Distress</th> <td>    2.2124</td> <td>    0.274</td> <td>    8.084</td> <td> 0.000</td> <td>    1.676</td> <td>    2.749</td>\n",
       "</tr>\n",
       "<tr>\n",
       "  <th>Percent_Excessive_Drinking</th>       <td>   -0.2322</td> <td>    0.099</td> <td>   -2.347</td> <td> 0.019</td> <td>   -0.426</td> <td>   -0.038</td>\n",
       "</tr>\n",
       "</table>\n",
       "<table class=\"simpletable\">\n",
       "<tr>\n",
       "  <th>Omnibus:</th>       <td>535.045</td> <th>  Durbin-Watson:     </th> <td>   1.631</td>\n",
       "</tr>\n",
       "<tr>\n",
       "  <th>Prob(Omnibus):</th> <td> 0.000</td>  <th>  Jarque-Bera (JB):  </th> <td>2169.778</td>\n",
       "</tr>\n",
       "<tr>\n",
       "  <th>Skew:</th>          <td> 1.518</td>  <th>  Prob(JB):          </th> <td>    0.00</td>\n",
       "</tr>\n",
       "<tr>\n",
       "  <th>Kurtosis:</th>      <td> 7.717</td>  <th>  Cond. No.          </th> <td>1.42e+06</td>\n",
       "</tr>\n",
       "</table><br/><br/>Warnings:<br/>[1] Standard Errors assume that the covariance matrix of the errors is correctly specified.<br/>[2] The condition number is large, 1.42e+06. This might indicate that there are<br/>strong multicollinearity or other numerical problems."
      ],
      "text/plain": [
       "<class 'statsmodels.iolib.summary.Summary'>\n",
       "\"\"\"\n",
       "                                 OLS Regression Results                                 \n",
       "========================================================================================\n",
       "Dep. Variable:     Drug_Overdose_Mortality_Rate   R-squared:                       0.169\n",
       "Model:                                      OLS   Adj. R-squared:                  0.166\n",
       "Method:                           Least Squares   F-statistic:                     47.91\n",
       "Date:                          Sun, 09 Dec 2018   Prob (F-statistic):           3.67e-62\n",
       "Time:                                  18:33:38   Log-Likelihood:                -6081.7\n",
       "No. Observations:                          1655   AIC:                         1.218e+04\n",
       "Df Residuals:                              1647   BIC:                         1.222e+04\n",
       "Df Model:                                     7                                         \n",
       "Covariance Type:                      nonrobust                                         \n",
       "====================================================================================================\n",
       "                                       coef    std err          t      P>|t|      [0.025      0.975]\n",
       "----------------------------------------------------------------------------------------------------\n",
       "Intercept                          -19.2633      6.156     -3.129      0.002     -31.337      -7.189\n",
       "Percent_Unemployed                   0.8768      0.174      5.036      0.000       0.535       1.218\n",
       "Household_Income                     0.0001    2.9e-05      3.467      0.001    4.37e-05       0.000\n",
       "Graduation_Rate                      0.0669      0.035      1.924      0.055      -0.001       0.135\n",
       "Percent_Rural                        0.0172      0.011      1.597      0.110      -0.004       0.038\n",
       "HIV_Prevalence_Rate                 -0.0027      0.001     -2.109      0.035      -0.005      -0.000\n",
       "Percent_Frequent_Mental_Distress     2.2124      0.274      8.084      0.000       1.676       2.749\n",
       "Percent_Excessive_Drinking          -0.2322      0.099     -2.347      0.019      -0.426      -0.038\n",
       "==============================================================================\n",
       "Omnibus:                      535.045   Durbin-Watson:                   1.631\n",
       "Prob(Omnibus):                  0.000   Jarque-Bera (JB):             2169.778\n",
       "Skew:                           1.518   Prob(JB):                         0.00\n",
       "Kurtosis:                       7.717   Cond. No.                     1.42e+06\n",
       "==============================================================================\n",
       "\n",
       "Warnings:\n",
       "[1] Standard Errors assume that the covariance matrix of the errors is correctly specified.\n",
       "[2] The condition number is large, 1.42e+06. This might indicate that there are\n",
       "strong multicollinearity or other numerical problems.\n",
       "\"\"\""
      ]
     },
     "execution_count": 20,
     "metadata": {},
     "output_type": "execute_result"
    }
   ],
   "source": [
    "results.summary()"
   ]
  },
  {
   "cell_type": "code",
   "execution_count": 15,
   "metadata": {},
   "outputs": [],
   "source": [
    "from sklearn.feature_selection import SelectKBest, f_regression\n",
    "X = counties.copy().drop(columns=['Drug_Overdose_Mortality_Rate'])\n",
    "X = X.select_dtypes(exclude='object')\n",
    "y = counties['Drug_Overdose_Mortality_Rate']\n",
    "kbest = SelectKBest(f_regression, k=20).fit(X, y)"
   ]
  },
  {
   "cell_type": "code",
   "execution_count": 16,
   "metadata": {},
   "outputs": [],
   "source": [
    "new_features = []\n",
    "mask = kbest.get_support()\n",
    "\n",
    "for boolean, feature in zip(mask, list(counties.columns.values)):\n",
    "    if boolean:\n",
    "        new_features.append(feature)"
   ]
  },
  {
   "cell_type": "code",
   "execution_count": 17,
   "metadata": {},
   "outputs": [
    {
     "data": {
      "text/plain": [
       "['State',\n",
       " 'Age_Adjusted_Mortality',\n",
       " 'Age_Adjusted_Mortality_(Black)',\n",
       " 'Child_Mortality_Rate',\n",
       " 'Child_Mortality_Rate_(Black)',\n",
       " 'Child_Mortality_Rate_(White)',\n",
       " 'Infant_Mortality_Rate',\n",
       " 'Percent_Frequent_Physical_Distress',\n",
       " 'Percent_Uninsured.1',\n",
       " 'Segregation_index',\n",
       " 'Percent_Not_Proficient_in_English',\n",
       " 'State_ranked',\n",
       " 'Years_of_Potential_Life_Lost_Rate',\n",
       " 'Years_of_Potential_Life_Lost_Rate_(Black)',\n",
       " 'Physically_Unhealthy_Days',\n",
       " 'Mentally_Unhealthy_Days',\n",
       " 'Percent_Smokers',\n",
       " 'Teen_Birth_Rate_(White)',\n",
       " 'Percent_Some_College',\n",
       " '20th_Percentile_Income']"
      ]
     },
     "execution_count": 17,
     "metadata": {},
     "output_type": "execute_result"
    }
   ],
   "source": [
    "new_features"
   ]
  },
  {
   "cell_type": "code",
   "execution_count": null,
   "metadata": {},
   "outputs": [],
   "source": []
  }
 ],
 "metadata": {
  "kernelspec": {
   "display_name": "Python 3",
   "language": "python",
   "name": "python3"
  },
  "language_info": {
   "codemirror_mode": {
    "name": "ipython",
    "version": 3
   },
   "file_extension": ".py",
   "mimetype": "text/x-python",
   "name": "python",
   "nbconvert_exporter": "python",
   "pygments_lexer": "ipython3",
   "version": "3.6.6"
  }
 },
 "nbformat": 4,
 "nbformat_minor": 2
}
