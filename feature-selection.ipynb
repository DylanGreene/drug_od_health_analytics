{
 "cells": [
  {
   "cell_type": "markdown",
   "metadata": {},
   "source": [
    "# Feature Selection for Drug Overdose Data"
   ]
  },
  {
   "cell_type": "code",
   "execution_count": 1,
   "metadata": {},
   "outputs": [],
   "source": [
    "import numpy as np\n",
    "import pandas as pd\n",
    "import scipy as sp\n",
    "import datetime\n",
    "import matplotlib.pyplot as plt\n",
    "import seaborn as sns\n",
    "import statsmodels.api as sm\n",
    "import patsy \n",
    "import math\n",
    "\n",
    "%matplotlib inline"
   ]
  },
  {
   "cell_type": "markdown",
   "metadata": {},
   "source": [
    "## Load CSV Files into Pandas DataFrames\n",
    "The csv files are names as follows for each state:\n",
    "* `{state}0.csv` - Introduction\n",
    "* `{state}1.csv` - Outcomes & Factors Rankings\n",
    "* `{state}2.csv` - Outcomes & Factors SubRankings\n",
    "* `{state}3.csv` - Ranked Measure Data\n",
    "* `{state}4.csv` - Additional Measure Data\n",
    "* `{state}5.csv` - Ranked Measure Sources & Years\n",
    "* `{state}6.csv` - Addtl Measure Sources & Years\n",
    "\n",
    "The Additional Measure Data looks to contain the valuable information for this usecase."
   ]
  },
  {
   "cell_type": "code",
   "execution_count": null,
   "metadata": {},
   "outputs": [],
   "source": []
  }
 ],
 "metadata": {
  "kernelspec": {
   "display_name": "Python [conda env:anaconda3]",
   "language": "python",
   "name": "conda-env-anaconda3-py"
  },
  "language_info": {
   "codemirror_mode": {
    "name": "ipython",
    "version": 3
   },
   "file_extension": ".py",
   "mimetype": "text/x-python",
   "name": "python",
   "nbconvert_exporter": "python",
   "pygments_lexer": "ipython3",
   "version": "3.5.5"
  }
 },
 "nbformat": 4,
 "nbformat_minor": 2
}
