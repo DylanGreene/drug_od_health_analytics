{
 "cells": [
  {
   "cell_type": "code",
   "execution_count": 1,
   "metadata": {},
   "outputs": [],
   "source": [
    "import numpy as np\n",
    "import pandas as pd\n",
    "import scipy as sp\n",
    "import datetime\n",
    "import matplotlib.pyplot as plt\n",
    "import seaborn as sns\n",
    "import statsmodels.api as sm\n",
    "import patsy \n",
    "import math\n",
    "\n",
    "pd.set_option('display.max_columns', 100)\n",
    "%matplotlib inline"
   ]
  },
  {
   "cell_type": "code",
   "execution_count": 2,
   "metadata": {},
   "outputs": [],
   "source": [
    "# Read the DF created from the feature_selection notebook\n",
    "counties = pd.read_pickle('counties_df.pkl')"
   ]
  },
  {
   "cell_type": "code",
   "execution_count": 3,
   "metadata": {},
   "outputs": [],
   "source": [
    "# Make the column names standardized for use in patsy formulas\n",
    "counties.columns = [x.replace(' ', '_').replace('-', '_').replace('%', 'Percent').replace('.', '_').replace('(', '').replace(')', '') for x in list(counties.columns)]"
   ]
  },
  {
   "cell_type": "code",
   "execution_count": 4,
   "metadata": {},
   "outputs": [],
   "source": [
    "from sklearn.feature_selection import SelectKBest, f_regression\n",
    "X = counties.copy().drop(columns=['Drug_Overdose_Mortality_Rate'])\n",
    "X = X.select_dtypes(exclude='object')\n",
    "y = counties['Drug_Overdose_Mortality_Rate']\n",
    "kbest = SelectKBest(f_regression, k=20).fit(X, y)"
   ]
  },
  {
   "cell_type": "code",
   "execution_count": 5,
   "metadata": {},
   "outputs": [],
   "source": [
    "new_features = []\n",
    "mask = kbest.get_support()\n",
    "\n",
    "for boolean, feature in zip(mask, list(counties.columns.values)):\n",
    "    if boolean:\n",
    "        new_features.append(feature)"
   ]
  },
  {
   "cell_type": "code",
   "execution_count": 6,
   "metadata": {},
   "outputs": [
    {
     "data": {
      "text/plain": [
       "['State',\n",
       " 'Age_Adjusted_Mortality',\n",
       " 'Age_Adjusted_Mortality_Black',\n",
       " 'Child_Mortality_Rate',\n",
       " 'Child_Mortality_Rate_Black',\n",
       " 'Child_Mortality_Rate_White',\n",
       " 'Infant_Mortality_Rate',\n",
       " 'Percent_Frequent_Physical_Distress',\n",
       " 'Percent_Uninsured_1',\n",
       " 'Segregation_index',\n",
       " 'Percent_Not_Proficient_in_English',\n",
       " 'State_ranked',\n",
       " 'Years_of_Potential_Life_Lost_Rate',\n",
       " 'Years_of_Potential_Life_Lost_Rate_Black',\n",
       " 'Physically_Unhealthy_Days',\n",
       " 'Mentally_Unhealthy_Days',\n",
       " 'Percent_Smokers',\n",
       " 'Teen_Birth_Rate_White',\n",
       " 'Percent_Some_College',\n",
       " '20th_Percentile_Income']"
      ]
     },
     "execution_count": 6,
     "metadata": {},
     "output_type": "execute_result"
    }
   ],
   "source": [
    "new_features"
   ]
  },
  {
   "cell_type": "code",
   "execution_count": 13,
   "metadata": {},
   "outputs": [],
   "source": [
    "#counties.loc[(counties['State'] == 'Ohio') & (counties['County'] == 'Clermont')]"
   ]
  },
  {
   "cell_type": "code",
   "execution_count": 8,
   "metadata": {},
   "outputs": [],
   "source": [
    "# Try to find the 50th percentile for each category and split them at that point. \n",
    "# Then, find the mean drug overdose value for the lower 50% and for the upper 50% and compare them. "
   ]
  },
  {
   "cell_type": "code",
   "execution_count": 57,
   "metadata": {},
   "outputs": [
    {
     "name": "stdout",
     "output_type": "stream",
     "text": [
      "Mean Drug Overdose Mortality Rate for lower 50% of State:  19.23537802000737\n",
      "Mean Drug Overdose Mortality Rate for upper 50% of State:  20.52340131726678\n"
     ]
    }
   ],
   "source": [
    "# STATE \n",
    "counties_state = counties.sort_values('State')\n",
    "\n",
    "end_point = len(counties_state)\n",
    "median_point = end_point/2\n",
    "median_point = np.ceil(median_point)\n",
    "\n",
    "n = 0 \n",
    "total_state_low = 0 \n",
    "total_state_high = 0 \n",
    "mean_low = 0 \n",
    "mean_high = 0 \n",
    "while n < end_point:\n",
    "    if n < median_point:\n",
    "        total_state_low = total_state_low + counties_state.iloc[n, 16]\n",
    "        n = n + 1 \n",
    "    if n >= median_point:\n",
    "        total_state_high = total_state_high + counties_state.iloc[n, 16]\n",
    "        n = n + 1 \n",
    "mean_low = total_state_low/median_point\n",
    "print('Mean Drug Overdose Mortality Rate for lower 50% of State: ', mean_low)\n",
    "mean_high = total_state_high/median_point\n",
    "print('Mean Drug Overdose Mortality Rate for upper 50% of State: ', mean_high)"
   ]
  },
  {
   "cell_type": "code",
   "execution_count": 24,
   "metadata": {},
   "outputs": [
    {
     "name": "stdout",
     "output_type": "stream",
     "text": [
      "Mean Drug Overdose Mortality Rate for lower 50% of Age Adjusted Mortality:  16.43768041025713\n",
      "Mean Drug Overdose Mortality Rate for upper 50% of Age Adjusted Mortality:  23.321098927017037\n"
     ]
    }
   ],
   "source": [
    "# AGE ADJUSTED MORTALITY \n",
    "counties_age_adjusted_mortality = counties.sort_values('Age_Adjusted_Mortality')\n",
    "\n",
    "end_point = len(counties_age_adjusted_mortality)\n",
    "median_point = end_point/2\n",
    "median_point = np.ceil(median_point)\n",
    "\n",
    "n = 0 \n",
    "total_age_adjusted_mortality_low = 0 \n",
    "total_age_adjusted_mortality_high = 0 \n",
    "mean_low = 0 \n",
    "mean_high = 0 \n",
    "while n < end_point:\n",
    "    if n < median_point:\n",
    "        total_age_adjusted_mortality_low = total_age_adjusted_mortality_low + counties_age_adjusted_mortality.iloc[n, 16]\n",
    "        n = n + 1 \n",
    "    if n >= median_point:\n",
    "        total_age_adjusted_mortality_high = total_age_adjusted_mortality_high + counties_age_adjusted_mortality.iloc[n, 16]\n",
    "        n = n + 1 \n",
    "mean_low = total_age_adjusted_mortality_low/median_point\n",
    "print('Mean Drug Overdose Mortality Rate for lower 50% of Age Adjusted Mortality: ', mean_low)\n",
    "mean_high = total_age_adjusted_mortality_high/median_point\n",
    "print('Mean Drug Overdose Mortality Rate for upper 50% of Age Adjusted Mortality: ', mean_high)"
   ]
  },
  {
   "cell_type": "code",
   "execution_count": 25,
   "metadata": {},
   "outputs": [
    {
     "name": "stdout",
     "output_type": "stream",
     "text": [
      "Mean Drug Overdose Mortality Rate for lower 50% of Age Adjusted Mortality Black:  17.148575330206747\n",
      "Mean Drug Overdose Mortality Rate for upper 50% of Age Adjusted Mortality Black:  22.610204007067377\n"
     ]
    }
   ],
   "source": [
    "# AGE ADJUSTED MORTALITY BLACK \n",
    "counties_age_adjusted_mortality_black = counties.sort_values('Age_Adjusted_Mortality_Black')\n",
    "\n",
    "end_point = len(counties_age_adjusted_mortality_black)\n",
    "median_point = end_point/2\n",
    "median_point = np.ceil(median_point)\n",
    "\n",
    "n = 0 \n",
    "total_age_adjusted_mortality_black_low = 0 \n",
    "total_age_adjusted_mortality_black_high = 0 \n",
    "mean_low = 0 \n",
    "mean_high = 0 \n",
    "while n < end_point:\n",
    "    if n < median_point:\n",
    "        total_age_adjusted_mortality_black_low = total_age_adjusted_mortality_black_low + counties_age_adjusted_mortality_black.iloc[n, 16]\n",
    "        n = n + 1 \n",
    "    if n >= median_point:\n",
    "        total_age_adjusted_mortality_black_high = total_age_adjusted_mortality_black_high + counties_age_adjusted_mortality_black.iloc[n, 16]\n",
    "        n = n + 1 \n",
    "mean_low = total_age_adjusted_mortality_black_low/median_point\n",
    "print('Mean Drug Overdose Mortality Rate for lower 50% of Age Adjusted Mortality Black: ', mean_low)\n",
    "mean_high = total_age_adjusted_mortality_black_high/median_point\n",
    "print('Mean Drug Overdose Mortality Rate for upper 50% of Age Adjusted Mortality Black: ', mean_high)"
   ]
  },
  {
   "cell_type": "code",
   "execution_count": 26,
   "metadata": {},
   "outputs": [
    {
     "name": "stdout",
     "output_type": "stream",
     "text": [
      "Mean Drug Overdose Mortality Rate for lower 50% of Child Mortality Rate:  17.685557626139595\n",
      "Mean Drug Overdose Mortality Rate for upper 50% of Child Mortality Rate:  22.073221711134558\n"
     ]
    }
   ],
   "source": [
    "# CHILD MORTALITY RATE \n",
    "counties_child_mortality_rate = counties.sort_values('Child_Mortality_Rate')\n",
    "\n",
    "end_point = len(counties_child_mortality_rate)\n",
    "median_point = end_point/2\n",
    "median_point = np.ceil(median_point)\n",
    "\n",
    "n = 0 \n",
    "total_child_mortality_rate_low = 0 \n",
    "total_child_mortality_rate_high = 0 \n",
    "mean_low = 0 \n",
    "mean_high = 0 \n",
    "while n < end_point:\n",
    "    if n < median_point:\n",
    "        total_child_mortality_rate_low = total_child_mortality_rate_low + counties_child_mortality_rate.iloc[n, 16]\n",
    "        n = n + 1 \n",
    "    if n >= median_point:\n",
    "        total_child_mortality_rate_high = total_child_mortality_rate_high + counties_child_mortality_rate.iloc[n, 16]\n",
    "        n = n + 1 \n",
    "mean_low = total_child_mortality_rate_low/median_point\n",
    "print('Mean Drug Overdose Mortality Rate for lower 50% of Child Mortality Rate: ', mean_low)\n",
    "mean_high = total_child_mortality_rate_high/median_point\n",
    "print('Mean Drug Overdose Mortality Rate for upper 50% of Child Mortality Rate: ', mean_high)"
   ]
  },
  {
   "cell_type": "code",
   "execution_count": 27,
   "metadata": {},
   "outputs": [
    {
     "name": "stdout",
     "output_type": "stream",
     "text": [
      "Mean Drug Overdose Mortality Rate for lower 50% of Child Mortality Rate Black:  17.67767307184385\n",
      "Mean Drug Overdose Mortality Rate for upper 50% of Child Mortality Rate Black:  22.08110626543029\n"
     ]
    }
   ],
   "source": [
    "# CHILD MORTALITY RATE BLACK \n",
    "counties_child_mortality_rate_black = counties.sort_values('Child_Mortality_Rate_Black')\n",
    "\n",
    "end_point = len(counties_child_mortality_rate_black)\n",
    "median_point = end_point/2\n",
    "median_point = np.ceil(median_point)\n",
    "\n",
    "n = 0 \n",
    "total_child_mortality_rate_black_low = 0 \n",
    "total_child_mortality_rate_black_high = 0 \n",
    "mean_low = 0 \n",
    "mean_high = 0 \n",
    "while n < end_point:\n",
    "    if n < median_point:\n",
    "        total_child_mortality_rate_black_low = total_child_mortality_rate_black_low + counties_child_mortality_rate_black.iloc[n, 16]\n",
    "        n = n + 1 \n",
    "    if n >= median_point:\n",
    "        total_child_mortality_rate_black_high = total_child_mortality_rate_black_high + counties_child_mortality_rate_black.iloc[n, 16]\n",
    "        n = n + 1 \n",
    "mean_low = total_child_mortality_rate_black_low/median_point\n",
    "print('Mean Drug Overdose Mortality Rate for lower 50% of Child Mortality Rate Black: ', mean_low)\n",
    "mean_high = total_child_mortality_rate_black_high/median_point\n",
    "print('Mean Drug Overdose Mortality Rate for upper 50% of Child Mortality Rate Black: ', mean_high)"
   ]
  },
  {
   "cell_type": "code",
   "execution_count": 28,
   "metadata": {},
   "outputs": [
    {
     "name": "stdout",
     "output_type": "stream",
     "text": [
      "Mean Drug Overdose Mortality Rate for lower 50% of Child Mortality Rate White:  17.735426720786233\n",
      "Mean Drug Overdose Mortality Rate for upper 50% of Child Mortality Rate White:  22.023352616487895\n"
     ]
    }
   ],
   "source": [
    "# CHILD MORTALITY RATE WHITE  \n",
    "counties_child_mortality_rate_white = counties.sort_values('Child_Mortality_Rate_White')\n",
    "\n",
    "end_point = len(counties_child_mortality_rate_white)\n",
    "median_point = end_point/2\n",
    "median_point = np.ceil(median_point)\n",
    "\n",
    "n = 0 \n",
    "total_child_mortality_rate_white_low = 0 \n",
    "total_child_mortality_rate_white_high = 0 \n",
    "mean_low = 0 \n",
    "mean_high = 0 \n",
    "while n < end_point:\n",
    "    if n < median_point:\n",
    "        total_child_mortality_rate_white_low = total_child_mortality_rate_white_low + counties_child_mortality_rate_white.iloc[n, 16]\n",
    "        n = n + 1 \n",
    "    if n >= median_point:\n",
    "        total_child_mortality_rate_white_high = total_child_mortality_rate_white_high + counties_child_mortality_rate_white.iloc[n, 16]\n",
    "        n = n + 1 \n",
    "mean_low = total_child_mortality_rate_white_low/median_point\n",
    "print('Mean Drug Overdose Mortality Rate for lower 50% of Child Mortality Rate White: ', mean_low)\n",
    "mean_high = total_child_mortality_rate_white_high/median_point\n",
    "print('Mean Drug Overdose Mortality Rate for upper 50% of Child Mortality Rate White: ', mean_high)"
   ]
  },
  {
   "cell_type": "code",
   "execution_count": 29,
   "metadata": {},
   "outputs": [
    {
     "name": "stdout",
     "output_type": "stream",
     "text": [
      "Mean Drug Overdose Mortality Rate for lower 50% of Infant Mortality Rate:  17.328560998674032\n",
      "Mean Drug Overdose Mortality Rate for upper 50% of Infant Mortality Rate:  22.430218338600124\n"
     ]
    }
   ],
   "source": [
    "# INFANT MORTALITY RATE  \n",
    "counties_infant_mortality_rate = counties.sort_values('Infant_Mortality_Rate')\n",
    "\n",
    "end_point = len(counties_infant_mortality_rate)\n",
    "median_point = end_point/2\n",
    "median_point = np.ceil(median_point)\n",
    "\n",
    "n = 0 \n",
    "total_infant_mortality_rate_low = 0 \n",
    "total_infant_mortality_rate_high = 0 \n",
    "mean_low = 0 \n",
    "mean_high = 0 \n",
    "while n < end_point:\n",
    "    if n < median_point:\n",
    "        total_infant_mortality_rate_low = total_infant_mortality_rate_low + counties_infant_mortality_rate.iloc[n, 16]\n",
    "        n = n + 1 \n",
    "    if n >= median_point:\n",
    "        total_infant_mortality_rate_high = total_infant_mortality_rate_high + counties_infant_mortality_rate.iloc[n, 16]\n",
    "        n = n + 1 \n",
    "mean_low = total_infant_mortality_rate_low/median_point\n",
    "print('Mean Drug Overdose Mortality Rate for lower 50% of Infant Mortality Rate: ', mean_low)\n",
    "mean_high = total_infant_mortality_rate_high/median_point\n",
    "print('Mean Drug Overdose Mortality Rate for upper 50% of Infant Mortality Rate: ', mean_high)"
   ]
  },
  {
   "cell_type": "code",
   "execution_count": 30,
   "metadata": {},
   "outputs": [
    {
     "name": "stdout",
     "output_type": "stream",
     "text": [
      "Mean Drug Overdose Mortality Rate for lower 50% of Percent Frequent Physical Distress:  17.689743383168473\n",
      "Mean Drug Overdose Mortality Rate for upper 50% of Percent Frequent Physical Distress:  22.069035954105676\n"
     ]
    }
   ],
   "source": [
    "# PERCENT FREQUENT PHYSICAL DISTRESS  \n",
    "counties_percent_frequent_physical_distress = counties.sort_values('Percent_Frequent_Physical_Distress')\n",
    "\n",
    "end_point = len(counties_percent_frequent_physical_distress)\n",
    "median_point = end_point/2\n",
    "median_point = np.ceil(median_point)\n",
    "\n",
    "n = 0 \n",
    "total_percent_frequent_physical_distress_low = 0 \n",
    "total_percent_frequent_physical_distress_high = 0 \n",
    "mean_low = 0 \n",
    "mean_high = 0 \n",
    "while n < end_point:\n",
    "    if n < median_point:\n",
    "        total_percent_frequent_physical_distress_low = total_percent_frequent_physical_distress_low + counties_percent_frequent_physical_distress.iloc[n, 16]\n",
    "        n = n + 1 \n",
    "    if n >= median_point:\n",
    "        total_percent_frequent_physical_distress_high = total_percent_frequent_physical_distress_high + counties_percent_frequent_physical_distress.iloc[n, 16]\n",
    "        n = n + 1 \n",
    "mean_low = total_percent_frequent_physical_distress_low/median_point\n",
    "print('Mean Drug Overdose Mortality Rate for lower 50% of Percent Frequent Physical Distress: ', mean_low)\n",
    "mean_high = total_percent_frequent_physical_distress_high/median_point\n",
    "print('Mean Drug Overdose Mortality Rate for upper 50% of Percent Frequent Physical Distress: ', mean_high)"
   ]
  },
  {
   "cell_type": "code",
   "execution_count": 31,
   "metadata": {},
   "outputs": [
    {
     "name": "stdout",
     "output_type": "stream",
     "text": [
      "Mean Drug Overdose Mortality Rate for lower 50% of Percent Uninsured 1:  20.13180047601728\n",
      "Mean Drug Overdose Mortality Rate for upper 50% of Percent Uninsured 1:  19.626978861256863\n"
     ]
    }
   ],
   "source": [
    "# PERCENT UNINSURED 1  \n",
    "counties_percent_uninsured_1 = counties.sort_values('Percent_Uninsured_1')\n",
    "\n",
    "end_point = len(counties_percent_uninsured_1)\n",
    "median_point = end_point/2\n",
    "median_point = np.ceil(median_point)\n",
    "\n",
    "n = 0 \n",
    "total_percent_uninsured_1_low = 0 \n",
    "total_percent_uninsured_1_high = 0 \n",
    "mean_low = 0 \n",
    "mean_high = 0 \n",
    "while n < end_point:\n",
    "    if n < median_point:\n",
    "        total_percent_uninsured_1_low = total_percent_uninsured_1_low + counties_percent_uninsured_1.iloc[n, 16]\n",
    "        n = n + 1 \n",
    "    if n >= median_point:\n",
    "        total_percent_uninsured_1_high = total_percent_uninsured_1_high + counties_percent_uninsured_1.iloc[n, 16]\n",
    "        n = n + 1 \n",
    "mean_low = total_percent_uninsured_1_low/median_point\n",
    "print('Mean Drug Overdose Mortality Rate for lower 50% of Percent Uninsured 1: ', mean_low)\n",
    "mean_high = total_percent_uninsured_1_high/median_point\n",
    "print('Mean Drug Overdose Mortality Rate for upper 50% of Percent Uninsured 1: ', mean_high)"
   ]
  },
  {
   "cell_type": "code",
   "execution_count": 32,
   "metadata": {},
   "outputs": [
    {
     "name": "stdout",
     "output_type": "stream",
     "text": [
      "Mean Drug Overdose Mortality Rate for lower 50% of Segregation Index:  19.115431530644557\n",
      "Mean Drug Overdose Mortality Rate for upper 50% of Segregation Index:  20.64334780662961\n"
     ]
    }
   ],
   "source": [
    "# SEGREGATION INDEX  \n",
    "counties_segregation_index = counties.sort_values('Segregation_index')\n",
    "\n",
    "end_point = len(counties_segregation_index)\n",
    "median_point = end_point/2\n",
    "median_point = np.ceil(median_point)\n",
    "\n",
    "n = 0 \n",
    "total_segregation_index_low = 0 \n",
    "total_segregation_index_high = 0 \n",
    "mean_low = 0 \n",
    "mean_high = 0 \n",
    "while n < end_point:\n",
    "    if n < median_point:\n",
    "        total_segregation_index_low = total_segregation_index_low + counties_segregation_index.iloc[n, 16]\n",
    "        n = n + 1 \n",
    "    if n >= median_point:\n",
    "        total_segregation_index_high = total_segregation_index_high + counties_segregation_index.iloc[n, 16]\n",
    "        n = n + 1 \n",
    "mean_low = total_segregation_index_low/median_point\n",
    "print('Mean Drug Overdose Mortality Rate for lower 50% of Segregation Index: ', mean_low)\n",
    "mean_high = total_segregation_index_high/median_point\n",
    "print('Mean Drug Overdose Mortality Rate for upper 50% of Segregation Index: ', mean_high)"
   ]
  },
  {
   "cell_type": "code",
   "execution_count": 34,
   "metadata": {},
   "outputs": [
    {
     "name": "stdout",
     "output_type": "stream",
     "text": [
      "Mean Drug Overdose Mortality Rate for lower 50% of Percent Not Proficient in English:  21.893118487185607\n",
      "Mean Drug Overdose Mortality Rate for upper 50% of Percent Not Proficient in English:  17.865660850088524\n"
     ]
    }
   ],
   "source": [
    "# PERCENT NOT PROFICIENT IN ENGLISH  \n",
    "counties_percent_not_proficient_in_english = counties.sort_values('Percent_Not_Proficient_in_English')\n",
    "\n",
    "end_point = len(counties_percent_not_proficient_in_english)\n",
    "median_point = end_point/2\n",
    "median_point = np.ceil(median_point)\n",
    "\n",
    "n = 0 \n",
    "total_percent_not_proficient_in_english_low = 0 \n",
    "total_percent_not_proficient_in_english_high = 0 \n",
    "mean_low = 0 \n",
    "mean_high = 0 \n",
    "while n < end_point:\n",
    "    if n < median_point:\n",
    "        total_percent_not_proficient_in_english_low = total_percent_not_proficient_in_english_low + counties_percent_not_proficient_in_english.iloc[n, 16]\n",
    "        n = n + 1 \n",
    "    if n >= median_point:\n",
    "        total_percent_not_proficient_in_english_high = total_percent_not_proficient_in_english_high + counties_percent_not_proficient_in_english.iloc[n, 16]\n",
    "        n = n + 1 \n",
    "mean_low = total_percent_not_proficient_in_english_low/median_point\n",
    "print('Mean Drug Overdose Mortality Rate for lower 50% of Percent Not Proficient in English: ', mean_low)\n",
    "mean_high = total_percent_not_proficient_in_english_high/median_point\n",
    "print('Mean Drug Overdose Mortality Rate for upper 50% of Percent Not Proficient in English: ', mean_high)"
   ]
  },
  {
   "cell_type": "code",
   "execution_count": 35,
   "metadata": {},
   "outputs": [
    {
     "name": "stdout",
     "output_type": "stream",
     "text": [
      "Mean Drug Overdose Mortality Rate for lower 50% of State Ranked:  19.23537802000737\n",
      "Mean Drug Overdose Mortality Rate for upper 50% of State Ranked:  20.52340131726678\n"
     ]
    }
   ],
   "source": [
    "# STATE RANKED \n",
    "counties_state_ranked = counties.sort_values('State_ranked')\n",
    "\n",
    "end_point = len(counties_state_ranked)\n",
    "median_point = end_point/2\n",
    "median_point = np.ceil(median_point)\n",
    "\n",
    "n = 0 \n",
    "total_state_ranked_low = 0 \n",
    "total_state_ranked_high = 0 \n",
    "mean_low = 0 \n",
    "mean_high = 0 \n",
    "while n < end_point:\n",
    "    if n < median_point:\n",
    "        total_state_ranked_low = total_state_ranked_low + counties_state_ranked.iloc[n, 16]\n",
    "        n = n + 1 \n",
    "    if n >= median_point:\n",
    "        total_state_ranked_high = total_state_ranked_high + counties_state_ranked.iloc[n, 16]\n",
    "        n = n + 1 \n",
    "mean_low = total_state_ranked_low/median_point\n",
    "print('Mean Drug Overdose Mortality Rate for lower 50% of State Ranked: ', mean_low)\n",
    "mean_high = total_state_ranked_high/median_point\n",
    "print('Mean Drug Overdose Mortality Rate for upper 50% of State Ranked: ', mean_high)"
   ]
  },
  {
   "cell_type": "code",
   "execution_count": 37,
   "metadata": {},
   "outputs": [
    {
     "name": "stdout",
     "output_type": "stream",
     "text": [
      "Mean Drug Overdose Mortality Rate for lower 50% of Years of Potential Life Lost Rate:  16.349545932599995\n",
      "Mean Drug Overdose Mortality Rate for upper 50% of Years of Potential Life Lost Rate:  23.409233404674183\n"
     ]
    }
   ],
   "source": [
    "# YEARS OF POTENTIAL LIFE LOST RATE  \n",
    "counties_years_of_potential_life_lost_rate = counties.sort_values('Years_of_Potential_Life_Lost_Rate')\n",
    "\n",
    "end_point = len(counties_years_of_potential_life_lost_rate)\n",
    "median_point = end_point/2\n",
    "median_point = np.ceil(median_point)\n",
    "\n",
    "n = 0 \n",
    "total_years_of_potential_life_lost_rate_low = 0 \n",
    "total_years_of_potential_life_lost_rate_high = 0 \n",
    "mean_low = 0 \n",
    "mean_high = 0 \n",
    "while n < end_point:\n",
    "    if n < median_point:\n",
    "        total_years_of_potential_life_lost_rate_low = total_years_of_potential_life_lost_rate_low + counties_years_of_potential_life_lost_rate.iloc[n, 16]\n",
    "        n = n + 1 \n",
    "    if n >= median_point:\n",
    "        total_years_of_potential_life_lost_rate_high = total_years_of_potential_life_lost_rate_high + counties_years_of_potential_life_lost_rate.iloc[n, 16]\n",
    "        n = n + 1 \n",
    "mean_low = total_years_of_potential_life_lost_rate_low/median_point\n",
    "print('Mean Drug Overdose Mortality Rate for lower 50% of Years of Potential Life Lost Rate: ', mean_low)\n",
    "mean_high = total_years_of_potential_life_lost_rate_high/median_point\n",
    "print('Mean Drug Overdose Mortality Rate for upper 50% of Years of Potential Life Lost Rate: ', mean_high)"
   ]
  },
  {
   "cell_type": "code",
   "execution_count": 38,
   "metadata": {},
   "outputs": [
    {
     "name": "stdout",
     "output_type": "stream",
     "text": [
      "Mean Drug Overdose Mortality Rate for lower 50% of Years of Potential Life Lost Rate Black:  17.38630129436349\n",
      "Mean Drug Overdose Mortality Rate for upper 50% of Years of Potential Life Lost Rate Black:  22.372478042910632\n"
     ]
    }
   ],
   "source": [
    "# YEARS OF POTENTIAL LIFE LOST RATE BLACK  \n",
    "counties_years_of_potential_life_lost_rate_black = counties.sort_values('Years_of_Potential_Life_Lost_Rate_Black')\n",
    "\n",
    "end_point = len(counties_years_of_potential_life_lost_rate_black)\n",
    "median_point = end_point/2\n",
    "median_point = np.ceil(median_point)\n",
    "\n",
    "n = 0 \n",
    "total_years_of_potential_life_lost_rate_black_low = 0 \n",
    "total_years_of_potential_life_lost_rate_black_high = 0 \n",
    "mean_low = 0 \n",
    "mean_high = 0 \n",
    "while n < end_point:\n",
    "    if n < median_point:\n",
    "        total_years_of_potential_life_lost_rate_black_low = total_years_of_potential_life_lost_rate_black_low + counties_years_of_potential_life_lost_rate_black.iloc[n, 16]\n",
    "        n = n + 1 \n",
    "    if n >= median_point:\n",
    "        total_years_of_potential_life_lost_rate_black_high = total_years_of_potential_life_lost_rate_black_high + counties_years_of_potential_life_lost_rate_black.iloc[n, 16]\n",
    "        n = n + 1 \n",
    "mean_low = total_years_of_potential_life_lost_rate_black_low/median_point\n",
    "print('Mean Drug Overdose Mortality Rate for lower 50% of Years of Potential Life Lost Rate Black: ', mean_low)\n",
    "mean_high = total_years_of_potential_life_lost_rate_black_high/median_point\n",
    "print('Mean Drug Overdose Mortality Rate for upper 50% of Years of Potential Life Lost Rate Black: ', mean_high)"
   ]
  },
  {
   "cell_type": "code",
   "execution_count": 40,
   "metadata": {},
   "outputs": [
    {
     "name": "stdout",
     "output_type": "stream",
     "text": [
      "Mean Drug Overdose Mortality Rate for lower 50% of Physically Unhealthy Days:  17.552118409628\n",
      "Mean Drug Overdose Mortality Rate for upper 50% of Physically Unhealthy Days:  22.206660927646137\n"
     ]
    }
   ],
   "source": [
    "# PHYSICALLY UNHEALTHY DAYS  \n",
    "counties_physically_unhealthy_days = counties.sort_values('Physically_Unhealthy_Days')\n",
    "\n",
    "end_point = len(counties_physically_unhealthy_days)\n",
    "median_point = end_point/2\n",
    "median_point = np.ceil(median_point)\n",
    "\n",
    "n = 0 \n",
    "total_physically_unhealthy_days_low = 0 \n",
    "total_physically_unhealthy_days_high = 0 \n",
    "mean_low = 0 \n",
    "mean_high = 0 \n",
    "while n < end_point:\n",
    "    if n < median_point:\n",
    "        total_physically_unhealthy_days_low = total_physically_unhealthy_days_low + counties_physically_unhealthy_days.iloc[n, 16]\n",
    "        n = n + 1 \n",
    "    if n >= median_point:\n",
    "        total_physically_unhealthy_days_high = total_physically_unhealthy_days_high + counties_physically_unhealthy_days.iloc[n, 16]\n",
    "        n = n + 1 \n",
    "mean_low = total_physically_unhealthy_days_low/median_point\n",
    "print('Mean Drug Overdose Mortality Rate for lower 50% of Physically Unhealthy Days: ', mean_low)\n",
    "mean_high = total_physically_unhealthy_days_high/median_point\n",
    "print('Mean Drug Overdose Mortality Rate for upper 50% of Physically Unhealthy Days: ', mean_high)"
   ]
  },
  {
   "cell_type": "code",
   "execution_count": 41,
   "metadata": {},
   "outputs": [
    {
     "name": "stdout",
     "output_type": "stream",
     "text": [
      "Mean Drug Overdose Mortality Rate for lower 50% of Mentally Unhealthy Days:  16.89126199717164\n",
      "Mean Drug Overdose Mortality Rate for upper 50% of Mentally Unhealthy Days:  22.867517340102538\n"
     ]
    }
   ],
   "source": [
    "# MENTALLY UNHEALTHY DAYS  \n",
    "counties_mentally_unhealthy_days = counties.sort_values('Mentally_Unhealthy_Days')\n",
    "\n",
    "end_point = len(counties_mentally_unhealthy_days)\n",
    "median_point = end_point/2\n",
    "median_point = np.ceil(median_point)\n",
    "\n",
    "n = 0 \n",
    "total_mentally_unhealthy_days_low = 0 \n",
    "total_mentally_unhealthy_days_high = 0 \n",
    "mean_low = 0 \n",
    "mean_high = 0 \n",
    "while n < end_point:\n",
    "    if n < median_point:\n",
    "        total_mentally_unhealthy_days_low = total_mentally_unhealthy_days_low + counties_mentally_unhealthy_days.iloc[n, 16]\n",
    "        n = n + 1 \n",
    "    if n >= median_point:\n",
    "        total_mentally_unhealthy_days_high = total_mentally_unhealthy_days_high + counties_mentally_unhealthy_days.iloc[n, 16]\n",
    "        n = n + 1 \n",
    "mean_low = total_mentally_unhealthy_days_low/median_point\n",
    "print('Mean Drug Overdose Mortality Rate for lower 50% of Mentally Unhealthy Days: ', mean_low)\n",
    "mean_high = total_mentally_unhealthy_days_high/median_point\n",
    "print('Mean Drug Overdose Mortality Rate for upper 50% of Mentally Unhealthy Days: ', mean_high)"
   ]
  },
  {
   "cell_type": "code",
   "execution_count": 43,
   "metadata": {},
   "outputs": [
    {
     "name": "stdout",
     "output_type": "stream",
     "text": [
      "Mean Drug Overdose Mortality Rate for lower 50% of Percent Smokers:  17.46494190972306\n",
      "Mean Drug Overdose Mortality Rate for upper 50% of Percent Smokers:  22.29383742755106\n"
     ]
    }
   ],
   "source": [
    "# PERCENT SMOKERS  \n",
    "counties_percent_smokers = counties.sort_values('Percent_Smokers')\n",
    "\n",
    "end_point = len(counties_percent_smokers)\n",
    "median_point = end_point/2\n",
    "median_point = np.ceil(median_point)\n",
    "\n",
    "n = 0 \n",
    "total_percent_smokers_low = 0 \n",
    "total_percent_smokers_high = 0 \n",
    "mean_low = 0 \n",
    "mean_high = 0 \n",
    "while n < end_point:\n",
    "    if n < median_point:\n",
    "        total_percent_smokers_low = total_percent_smokers_low + counties_percent_smokers.iloc[n, 16]\n",
    "        n = n + 1 \n",
    "    if n >= median_point:\n",
    "        total_percent_smokers_high = total_percent_smokers_high + counties_percent_smokers.iloc[n, 16]\n",
    "        n = n + 1 \n",
    "mean_low = total_percent_smokers_low/median_point\n",
    "print('Mean Drug Overdose Mortality Rate for lower 50% of Percent Smokers: ', mean_low)\n",
    "mean_high = total_percent_smokers_high/median_point\n",
    "print('Mean Drug Overdose Mortality Rate for upper 50% of Percent Smokers: ', mean_high)"
   ]
  },
  {
   "cell_type": "code",
   "execution_count": 46,
   "metadata": {},
   "outputs": [
    {
     "name": "stdout",
     "output_type": "stream",
     "text": [
      "Mean Drug Overdose Mortality Rate for lower 50% of Teen Birth Rate White:  17.734291392365584\n",
      "Mean Drug Overdose Mortality Rate for upper 50% of Teen Birth Rate White:  22.02448794490855\n"
     ]
    }
   ],
   "source": [
    "# TEEN BIRTH RATE WHITE  \n",
    "counties_teen_birth_rate_white = counties.sort_values('Teen_Birth_Rate_White')\n",
    "\n",
    "end_point = len(counties_teen_birth_rate_white)\n",
    "median_point = end_point/2\n",
    "median_point = np.ceil(median_point)\n",
    "\n",
    "n = 0 \n",
    "total_teen_birth_rate_white_low = 0 \n",
    "total_teen_birth_rate_white_high = 0 \n",
    "mean_low = 0 \n",
    "mean_high = 0 \n",
    "while n < end_point:\n",
    "    if n < median_point:\n",
    "        total_teen_birth_rate_white_low = total_teen_birth_rate_white_low + counties_teen_birth_rate_white.iloc[n, 16]\n",
    "        n = n + 1 \n",
    "    if n >= median_point:\n",
    "        total_teen_birth_rate_white_high = total_teen_birth_rate_white_high + counties_teen_birth_rate_white.iloc[n, 16]\n",
    "        n = n + 1 \n",
    "mean_low = total_teen_birth_rate_white_low/median_point\n",
    "print('Mean Drug Overdose Mortality Rate for lower 50% of Teen Birth Rate White: ', mean_low)\n",
    "mean_high = total_teen_birth_rate_white_high/median_point\n",
    "print('Mean Drug Overdose Mortality Rate for upper 50% of Teen Birth Rate White: ', mean_high)"
   ]
  },
  {
   "cell_type": "code",
   "execution_count": 47,
   "metadata": {},
   "outputs": [
    {
     "name": "stdout",
     "output_type": "stream",
     "text": [
      "Mean Drug Overdose Mortality Rate for lower 50% of Percent Some College:  21.93643457191002\n",
      "Mean Drug Overdose Mortality Rate for upper 50% of Percent Some College:  0.0\n"
     ]
    }
   ],
   "source": [
    "# PERCENT SOME COLLEGE  \n",
    "counties_percent_some_college = counties.sort_values('Percent_Some_College')\n",
    "\n",
    "end_point = len(counties_percent_some_college)\n",
    "median_point = end_point/2\n",
    "median_point = np.ceil(median_point)\n",
    "\n",
    "n = 0 \n",
    "total_percent_some_college_low = 0 \n",
    "total_percent_some_college_high = 0 \n",
    "mean_low = 0 \n",
    "mean_high = 0 \n",
    "while n < end_point:\n",
    "    if n < median_point:\n",
    "        total_percent_some_college_low = total_percent_some_college_low + counties_percent_some_college.iloc[n, 16]\n",
    "        n = n + 1 \n",
    "    if n >= median_point:\n",
    "        total_state_high = total_percent_some_college_high + counties_percent_some_college.iloc[n, 16]\n",
    "        n = n + 1 \n",
    "mean_low = total_percent_some_college_low/median_point\n",
    "print('Mean Drug Overdose Mortality Rate for lower 50% of Percent Some College: ', mean_low)\n",
    "mean_high = total_percent_some_college_high/median_point\n",
    "print('Mean Drug Overdose Mortality Rate for upper 50% of Percent Some College: ', mean_high)"
   ]
  },
  {
   "cell_type": "code",
   "execution_count": 48,
   "metadata": {},
   "outputs": [
    {
     "name": "stdout",
     "output_type": "stream",
     "text": [
      "Mean Drug Overdose Mortality Rate for lower 50% of 20th Percentile Income:  22.03283349646774\n",
      "Mean Drug Overdose Mortality Rate for upper 50% of 20th Percentile Income:  17.72594584080639\n"
     ]
    }
   ],
   "source": [
    "# 20TH PERCENTILE INCOME  \n",
    "counties_20th_percentile_income = counties.sort_values('20th_Percentile_Income')\n",
    "\n",
    "end_point = len(counties_20th_percentile_income)\n",
    "median_point = end_point/2\n",
    "median_point = np.ceil(median_point)\n",
    "\n",
    "n = 0 \n",
    "total_20th_percentile_income_low = 0 \n",
    "total_20th_percentile_income_high = 0 \n",
    "mean_low = 0 \n",
    "mean_high = 0 \n",
    "while n < end_point:\n",
    "    if n < median_point:\n",
    "        total_20th_percentile_income_low = total_20th_percentile_income_low + counties_20th_percentile_income.iloc[n, 16]\n",
    "        n = n + 1 \n",
    "    if n >= median_point:\n",
    "        total_20th_percentile_income_high = total_20th_percentile_income_high + counties_20th_percentile_income.iloc[n, 16]\n",
    "        n = n + 1 \n",
    "mean_low = total_20th_percentile_income_low/median_point\n",
    "print('Mean Drug Overdose Mortality Rate for lower 50% of 20th Percentile Income: ', mean_low)\n",
    "mean_high = total_20th_percentile_income_high/median_point\n",
    "print('Mean Drug Overdose Mortality Rate for upper 50% of 20th Percentile Income: ', mean_high)"
   ]
  },
  {
   "cell_type": "code",
   "execution_count": null,
   "metadata": {},
   "outputs": [],
   "source": []
  }
 ],
 "metadata": {
  "kernelspec": {
   "display_name": "Python 3",
   "language": "python",
   "name": "python3"
  },
  "language_info": {
   "codemirror_mode": {
    "name": "ipython",
    "version": 3
   },
   "file_extension": ".py",
   "mimetype": "text/x-python",
   "name": "python",
   "nbconvert_exporter": "python",
   "pygments_lexer": "ipython3",
   "version": "3.6.6"
  }
 },
 "nbformat": 4,
 "nbformat_minor": 2
}
